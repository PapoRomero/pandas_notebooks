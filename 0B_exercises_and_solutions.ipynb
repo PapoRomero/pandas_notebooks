{
 "cells": [
  {
   "cell_type": "markdown",
   "metadata": {},
   "source": [
    "# Class Exercises\n",
    "\n",
    "This file contains solutions for exercises proposed during class. Notice there are multiple possible solutions for each one.\n",
    "\n",
    "## Exercise 1.1\n",
    "\n",
    "_From `prices.csv`, read data for `tsla` symbol and select 90% of `Close` column for training and reserve 10% for model later checking._"
   ]
  },
  {
   "cell_type": "markdown",
   "metadata": {},
   "source": [
    "**Step 1:** Read prices data and filter `tsla` data"
   ]
  },
  {
   "cell_type": "code",
   "execution_count": 1,
   "metadata": {},
   "outputs": [
    {
     "data": {
      "text/html": [
       "<div>\n",
       "<style scoped>\n",
       "    .dataframe tbody tr th:only-of-type {\n",
       "        vertical-align: middle;\n",
       "    }\n",
       "\n",
       "    .dataframe tbody tr th {\n",
       "        vertical-align: top;\n",
       "    }\n",
       "\n",
       "    .dataframe thead th {\n",
       "        text-align: right;\n",
       "    }\n",
       "</style>\n",
       "<table border=\"1\" class=\"dataframe\">\n",
       "  <thead>\n",
       "    <tr style=\"text-align: right;\">\n",
       "      <th></th>\n",
       "      <th>Close</th>\n",
       "      <th>High</th>\n",
       "      <th>Low</th>\n",
       "      <th>Open</th>\n",
       "      <th>Volume</th>\n",
       "    </tr>\n",
       "    <tr>\n",
       "      <th>Date</th>\n",
       "      <th></th>\n",
       "      <th></th>\n",
       "      <th></th>\n",
       "      <th></th>\n",
       "      <th></th>\n",
       "    </tr>\n",
       "  </thead>\n",
       "  <tbody>\n",
       "    <tr>\n",
       "      <th>2010-06-29</th>\n",
       "      <td>23.89</td>\n",
       "      <td>25.0000</td>\n",
       "      <td>17.54</td>\n",
       "      <td>19.00</td>\n",
       "      <td>18783276</td>\n",
       "    </tr>\n",
       "    <tr>\n",
       "      <th>2010-06-30</th>\n",
       "      <td>23.83</td>\n",
       "      <td>30.4192</td>\n",
       "      <td>23.30</td>\n",
       "      <td>25.96</td>\n",
       "      <td>17194394</td>\n",
       "    </tr>\n",
       "  </tbody>\n",
       "</table>\n",
       "</div>"
      ],
      "text/plain": [
       "            Close     High    Low   Open    Volume\n",
       "Date                                              \n",
       "2010-06-29  23.89  25.0000  17.54  19.00  18783276\n",
       "2010-06-30  23.83  30.4192  23.30  25.96  17194394"
      ]
     },
     "execution_count": 1,
     "metadata": {},
     "output_type": "execute_result"
    }
   ],
   "source": [
    "import pandas as pd\n",
    "prices = pd.read_csv('./data/prices.csv', index_col=[0,1])\n",
    "tsla = prices.loc['tsla'] \n",
    "tsla.head(2)\n",
    "\n",
    "# Alternativelly:\n",
    "# tsla = prices[prices.index.get_level_values('Symbol').isin(['tsla'])]\n",
    "# tsla.index = tsla.index.droplevel(0)"
   ]
  },
  {
   "cell_type": "markdown",
   "metadata": {},
   "source": [
    "**Step 2:** Get DataFrame lenght, pick using head/tail"
   ]
  },
  {
   "cell_type": "code",
   "execution_count": 2,
   "metadata": {},
   "outputs": [],
   "source": [
    "import math\n",
    "tsla_count = len(tsla)\n",
    "train = tsla.Close.head(math.floor(tsla_count*0.9))\n",
    "check = tsla.Close.head(math.floor(tsla_count*0.1))"
   ]
  },
  {
   "cell_type": "markdown",
   "metadata": {},
   "source": [
    "If you just want to pick _one_ data set, you could use _sample_ function. Watch out duplicates using different fraction over same data! Documentation can be checked here: [pandas.DataFrame.sample](https://pandas.pydata.org/pandas-docs/stable/generated/pandas.DataFrame.sample.html?highlight=sample#pandas.DataFrame.sample)"
   ]
  },
  {
   "cell_type": "code",
   "execution_count": 3,
   "metadata": {},
   "outputs": [
    {
     "data": {
      "text/plain": [
       "Date\n",
       "2010-07-01    21.96\n",
       "Name: Close, dtype: float64"
      ]
     },
     "execution_count": 3,
     "metadata": {},
     "output_type": "execute_result"
    }
   ],
   "source": [
    "tsla.Close[0:5].sample(frac=0.2, random_state=1)"
   ]
  },
  {
   "cell_type": "markdown",
   "metadata": {},
   "source": [
    "**Step 3:** To avoid the duplicates problem, you could generate the data sets using [train_test_split](https://scikit-learn.org/stable/modules/generated/sklearn.model_selection.train_test_split.html) function from `scikit-learn`:"
   ]
  },
  {
   "cell_type": "code",
   "execution_count": 4,
   "metadata": {},
   "outputs": [
    {
     "data": {
      "text/plain": [
       "[1768, 313]"
      ]
     },
     "execution_count": 4,
     "metadata": {},
     "output_type": "execute_result"
    }
   ],
   "source": [
    "from sklearn.model_selection import train_test_split\n",
    "train, test = train_test_split(tsla.Close, test_size=0.15, random_state=42)\n",
    "[len(train), len(test)]"
   ]
  },
  {
   "cell_type": "markdown",
   "metadata": {},
   "source": [
    "## Exercise 1.2\n",
    "\n",
    "_From `prices.csv` file, read `msft` data and write it as a Feather file in `data/msft.feather`._"
   ]
  },
  {
   "cell_type": "code",
   "execution_count": 5,
   "metadata": {},
   "outputs": [],
   "source": [
    "prices = pd.read_csv('./data/prices.csv', index_col=[0,1])\n",
    "msft = prices.loc['msft'].copy()\n",
    "msft.reset_index().to_feather('data/msft.feather')"
   ]
  },
  {
   "cell_type": "markdown",
   "metadata": {},
   "source": [
    "That `copy()` call is pretty important to avoid the classic `SettingWithCopyWarning` in the next exercise. More information in [this link](https://stackoverflow.com/questions/42379818/correct-way-to-set-new-column-in-pandas-dataframe-to-avoid-settingwithcopywarnin)."
   ]
  },
  {
   "cell_type": "markdown",
   "metadata": {},
   "source": [
    "## Exercise 1.3\n",
    "\n",
    "_Add a boolean column to previous `msft` data frame indicating if trades open with values greater than 100_"
   ]
  },
  {
   "cell_type": "code",
   "execution_count": 6,
   "metadata": {},
   "outputs": [
    {
     "data": {
      "text/html": [
       "<div>\n",
       "<style scoped>\n",
       "    .dataframe tbody tr th:only-of-type {\n",
       "        vertical-align: middle;\n",
       "    }\n",
       "\n",
       "    .dataframe tbody tr th {\n",
       "        vertical-align: top;\n",
       "    }\n",
       "\n",
       "    .dataframe thead th {\n",
       "        text-align: right;\n",
       "    }\n",
       "</style>\n",
       "<table border=\"1\" class=\"dataframe\">\n",
       "  <thead>\n",
       "    <tr style=\"text-align: right;\">\n",
       "      <th></th>\n",
       "      <th>Close</th>\n",
       "      <th>High</th>\n",
       "      <th>Low</th>\n",
       "      <th>Open</th>\n",
       "      <th>Volume</th>\n",
       "      <th>Important</th>\n",
       "    </tr>\n",
       "    <tr>\n",
       "      <th>Date</th>\n",
       "      <th></th>\n",
       "      <th></th>\n",
       "      <th></th>\n",
       "      <th></th>\n",
       "      <th></th>\n",
       "      <th></th>\n",
       "    </tr>\n",
       "  </thead>\n",
       "  <tbody>\n",
       "    <tr>\n",
       "      <th>2018-06-01</th>\n",
       "      <td>100.79</td>\n",
       "      <td>100.86</td>\n",
       "      <td>99.170</td>\n",
       "      <td>99.2798</td>\n",
       "      <td>28655624</td>\n",
       "      <td>False</td>\n",
       "    </tr>\n",
       "    <tr>\n",
       "      <th>2018-06-04</th>\n",
       "      <td>101.67</td>\n",
       "      <td>101.86</td>\n",
       "      <td>100.851</td>\n",
       "      <td>101.2600</td>\n",
       "      <td>27281623</td>\n",
       "      <td>True</td>\n",
       "    </tr>\n",
       "  </tbody>\n",
       "</table>\n",
       "</div>"
      ],
      "text/plain": [
       "             Close    High      Low      Open    Volume  Important\n",
       "Date                                                              \n",
       "2018-06-01  100.79  100.86   99.170   99.2798  28655624      False\n",
       "2018-06-04  101.67  101.86  100.851  101.2600  27281623       True"
      ]
     },
     "execution_count": 6,
     "metadata": {},
     "output_type": "execute_result"
    }
   ],
   "source": [
    "msft.loc[:,'Important'] = msft.Open > 100\n",
    "msft[\"2018-06\":].head(2)"
   ]
  },
  {
   "cell_type": "markdown",
   "metadata": {},
   "source": [
    "## Exercise 1.4\n",
    "\n",
    "_Look in Pandas documentation for styling functions and mark in red all `close` values below 30_"
   ]
  },
  {
   "cell_type": "code",
   "execution_count": 7,
   "metadata": {},
   "outputs": [
    {
     "data": {
      "text/html": [
       "<style  type=\"text/css\" >\n",
       "#T_8e80f_row2_col0,#T_8e80f_row3_col0,#T_8e80f_row4_col0{\n",
       "            background-color:  #ff4081;\n",
       "             color:  white;\n",
       "        }</style><table id=\"T_8e80f_\" ><thead>    <tr>        <th class=\"blank level0\" ></th>        <th class=\"col_heading level0 col0\" >Close</th>        <th class=\"col_heading level0 col1\" >High</th>        <th class=\"col_heading level0 col2\" >Low</th>        <th class=\"col_heading level0 col3\" >Open</th>        <th class=\"col_heading level0 col4\" >Volume</th>        <th class=\"col_heading level0 col5\" >Important</th>    </tr>    <tr>        <th class=\"index_name level0\" >Date</th>        <th class=\"blank\" ></th>        <th class=\"blank\" ></th>        <th class=\"blank\" ></th>        <th class=\"blank\" ></th>        <th class=\"blank\" ></th>        <th class=\"blank\" ></th>    </tr></thead><tbody>\n",
       "                <tr>\n",
       "                        <th id=\"T_8e80f_level0_row0\" class=\"row_heading level0 row0\" >2010-05-03</th>\n",
       "                        <td id=\"T_8e80f_row0_col0\" class=\"data row0 col0\" >30.860000</td>\n",
       "                        <td id=\"T_8e80f_row0_col1\" class=\"data row0 col1\" >31.060600</td>\n",
       "                        <td id=\"T_8e80f_row0_col2\" class=\"data row0 col2\" >30.580000</td>\n",
       "                        <td id=\"T_8e80f_row0_col3\" class=\"data row0 col3\" >30.670000</td>\n",
       "                        <td id=\"T_8e80f_row0_col4\" class=\"data row0 col4\" >43990036</td>\n",
       "                        <td id=\"T_8e80f_row0_col5\" class=\"data row0 col5\" >False</td>\n",
       "            </tr>\n",
       "            <tr>\n",
       "                        <th id=\"T_8e80f_level0_row1\" class=\"row_heading level0 row1\" >2010-05-04</th>\n",
       "                        <td id=\"T_8e80f_row1_col0\" class=\"data row1 col0\" >30.130000</td>\n",
       "                        <td id=\"T_8e80f_row1_col1\" class=\"data row1 col1\" >30.550000</td>\n",
       "                        <td id=\"T_8e80f_row1_col2\" class=\"data row1 col2\" >29.750000</td>\n",
       "                        <td id=\"T_8e80f_row1_col3\" class=\"data row1 col3\" >30.500000</td>\n",
       "                        <td id=\"T_8e80f_row1_col4\" class=\"data row1 col4\" >82085579</td>\n",
       "                        <td id=\"T_8e80f_row1_col5\" class=\"data row1 col5\" >False</td>\n",
       "            </tr>\n",
       "            <tr>\n",
       "                        <th id=\"T_8e80f_level0_row2\" class=\"row_heading level0 row2\" >2010-05-05</th>\n",
       "                        <td id=\"T_8e80f_row2_col0\" class=\"data row2 col0\" >29.850000</td>\n",
       "                        <td id=\"T_8e80f_row2_col1\" class=\"data row2 col1\" >30.090000</td>\n",
       "                        <td id=\"T_8e80f_row2_col2\" class=\"data row2 col2\" >29.690000</td>\n",
       "                        <td id=\"T_8e80f_row2_col3\" class=\"data row2 col3\" >29.720000</td>\n",
       "                        <td id=\"T_8e80f_row2_col4\" class=\"data row2 col4\" >66833777</td>\n",
       "                        <td id=\"T_8e80f_row2_col5\" class=\"data row2 col5\" >False</td>\n",
       "            </tr>\n",
       "            <tr>\n",
       "                        <th id=\"T_8e80f_level0_row3\" class=\"row_heading level0 row3\" >2010-05-06</th>\n",
       "                        <td id=\"T_8e80f_row3_col0\" class=\"data row3 col0\" >28.980000</td>\n",
       "                        <td id=\"T_8e80f_row3_col1\" class=\"data row3 col1\" >29.880000</td>\n",
       "                        <td id=\"T_8e80f_row3_col2\" class=\"data row3 col2\" >27.910000</td>\n",
       "                        <td id=\"T_8e80f_row3_col3\" class=\"data row3 col3\" >29.560000</td>\n",
       "                        <td id=\"T_8e80f_row3_col4\" class=\"data row3 col4\" >128612951</td>\n",
       "                        <td id=\"T_8e80f_row3_col5\" class=\"data row3 col5\" >False</td>\n",
       "            </tr>\n",
       "            <tr>\n",
       "                        <th id=\"T_8e80f_level0_row4\" class=\"row_heading level0 row4\" >2010-05-07</th>\n",
       "                        <td id=\"T_8e80f_row4_col0\" class=\"data row4 col0\" >28.210000</td>\n",
       "                        <td id=\"T_8e80f_row4_col1\" class=\"data row4 col1\" >28.950000</td>\n",
       "                        <td id=\"T_8e80f_row4_col2\" class=\"data row4 col2\" >27.320000</td>\n",
       "                        <td id=\"T_8e80f_row4_col3\" class=\"data row4 col3\" >28.860000</td>\n",
       "                        <td id=\"T_8e80f_row4_col4\" class=\"data row4 col4\" >173718024</td>\n",
       "                        <td id=\"T_8e80f_row4_col5\" class=\"data row4 col5\" >False</td>\n",
       "            </tr>\n",
       "    </tbody></table>"
      ],
      "text/plain": [
       "<pandas.io.formats.style.Styler at 0x118e23820>"
      ]
     },
     "execution_count": 7,
     "metadata": {},
     "output_type": "execute_result"
    }
   ],
   "source": [
    "def warning_style(v):    \n",
    "    return 'background-color: #ff4081; color: white' if v < 30.0 else ''\n",
    "\n",
    "s = msft['2010-05':].head().style.applymap(warning_style, subset=['Close'])\n",
    "s"
   ]
  },
  {
   "cell_type": "markdown",
   "metadata": {},
   "source": [
    "## Exercise 1.5\n",
    "\n",
    "_Read CSV data for Tesla `tsla` directly into a `Series` and compute _closing_ values for each quarter._"
   ]
  },
  {
   "cell_type": "code",
   "execution_count": 8,
   "metadata": {},
   "outputs": [
    {
     "data": {
      "text/plain": [
       "Date\n",
       "2010-06-30    25.96\n",
       "2010-09-30    22.00\n",
       "2010-12-31    26.57\n",
       "2011-03-31    26.50\n",
       "2011-06-30    28.50\n",
       "Freq: Q-DEC, Name: Open, dtype: float64"
      ]
     },
     "execution_count": 8,
     "metadata": {},
     "output_type": "execute_result"
    }
   ],
   "source": [
    "tsla = pd.read_csv(\"./data/tsla.csv\", header=0, index_col=0, squeeze=True, usecols=[0, 4], parse_dates=True)\n",
    "quarter_ohlc = tsla.resample(\"Q\").pad()\n",
    "quarter_ohlc.head()"
   ]
  }
 ],
 "metadata": {
  "kernelspec": {
   "display_name": "Python 3",
   "language": "python",
   "name": "python3"
  },
  "language_info": {
   "codemirror_mode": {
    "name": "ipython",
    "version": 3
   },
   "file_extension": ".py",
   "mimetype": "text/x-python",
   "name": "python",
   "nbconvert_exporter": "python",
   "pygments_lexer": "ipython3",
   "version": "3.9.5"
  }
 },
 "nbformat": 4,
 "nbformat_minor": 4
}
